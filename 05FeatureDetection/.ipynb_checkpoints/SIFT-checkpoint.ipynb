{
 "cells": [
  {
   "cell_type": "markdown",
   "id": "selective-selling",
   "metadata": {},
   "source": [
    "## SIFT(Scale-Invariant Feature Transform)\n",
    "SIFT特征的计算方法分为如下几步\n",
    "1. 首先，计算DOG(Difference of Gaussian)<br>\n",
    "  - 首先将图像放大一倍，然后执行多次高斯平滑，将其称为一组<br>\n",
    "    $L(x, y, \\sigma) = G(x, y, \\sigma) * I(x, y)$<br>\n",
    "    $G(x, y, \\sigma) = \\frac{1}{2\\pi\\sigma^2}e^{-(x^2+y^2)/(2\\sigma^2)}$<br>\n",
    "    在同一组中，每一个图片计算使用的$\\sigma$是上一个图片的$k$倍。所以如果一组里面有m张图片，则$\\sigma$为$\\sigma, k\\sigma, k^2\\sigma, ..., k^{m-1}\\sigma$。\n",
    "   - 然后将上一组的倒数第三个作为母版， 将图片的尺度缩小为一半（图像金字塔的下采样）,重复上一步的计算,由此得到s组的图片\n",
    "   - 计算差分，上面两步总共得到$s*m$张图片，我们在同一组里面由下一个图片和上一个图片做差分（尺度相同），得到$s*(m-1)$张差分图像。差分计算公式如下：<br>\n",
    "    $D(x, y, \\sigma) = (G(x, y, k\\sigma)-G(x, y, \\sigma))*I(x, y) = L(x, y, k\\sigma)-L(x, y, \\sigma).$<br>\n",
    "    论文里面设置$m=4, s=5,\\sigma=1.6, k = \\sqrt{2}$ \n",
    "\n",
    "2. 求局部极值点\n",
    "  - 首先计算极值点，在以某点为中心的一个3x3x3的差分立方体（同一张图的以该点为中心的3*3的范围，和同一组相邻上下两层各有3*3的范围)中，如果该点为极值，则初步判断为极值点，也就是将来有可能的SIFT关键点。\n",
    "  - 对差分做泰勒展开<br>\n",
    "  $D(x) = D+\\frac{\\partial{D}}{\\partial x}^2 x + \\frac{1}{2}x^T \\frac{\\partial^2 D}{\\partial x^2}x$ <br>\n",
    "   求导后令导数为0， 求得<br>\n",
    "   $\\hat{x} = - {\\frac{\\partial^2 D}{\\partial x^2}}^{-1} \\frac{\\partial D}{\\partial x}$<br>\n",
    "   代入原式得：<br>\n",
    "   $D(\\hat{x}) = D + \\frac{1}{2}\\frac{\\partial D}{\\partial x} ^T\\hat{x}$<br>\n",
    "   论文里面设置如果$|D(\\hat{x})| < 0.03$, 则排除\n",
    "   - 排除边缘效应\n",
    "   由于SIFT对边缘比较敏感，所以之前检测的关键点里面会夹杂许多边缘，而我们一般认为的关键点事角，或者局部颜色变化明显的地方。可以利用之前Harris可以加测边的特性，去除关键点里面的边。<br>\n",
    "   Harris计算用到一个梯度矩阵：<br>\n",
    "   $$\n",
    "   H = \\begin{bmatrix}\n",
    "   \\lambda_{xx} & \\lambda_{xy}\\\\\n",
    "   \\lambda_{xy} & \\lambda_{yy}\\end{bmatrix}\n",
    "   $$\n",
    "   $$\n",
    "   Tr(H) = D_{xx}+D_{yy} = \\alpha+\\beta\n",
    "   $$\n",
    "   $$\n",
    "   Det(H) = D_{xx}D_{yy} - D_{xy}^2 = \\alpha \\beta\n",
    "   $$\n",
    "   令$\\alpha = \\gamma\\beta$\n",
    "   $$\n",
    "   \\frac{Tr(H)^2}{Det(H)^2} = \\frac{(\\alpha+\\beta)^2}{\\alpha\\beta} = \\frac{(\\gamma\\beta + \\beta)^2}{\\gamma\\beta^2} = \\frac{(\\gamma+1)^2}{\\gamma}\n",
    "   $$\n",
    "   由于边缘在Harris检测里面表现为$\\alpha, \\beta$差别很大，所以$\\gamma$比较大，所以$\\frac{(\\gamma+1)^2}{\\gamma}$比较大，所以可以设定一个阈值，论文中设定$\\gamma_{thresh}=10$, 当\n",
    "   $$\n",
    "   \\frac{Tr(H)^2}{Det(H)} > \\frac{(\\gamma_{thresh} + 1)^2}{\\gamma_{thresh}}\n",
    "   $$\n",
    "   时，排除该关键点。\n",
    "3. 计算关键点方向\n",
    "  - 首先计算梯度，某一点的梯度在SIFT中描述为\n",
    "  $$\n",
    "  m(x, y) = \\sqrt{(L(x+1, y) - L(x-1, y))^2 + (L(x, y+1) - L(x, y-1))^2}\n",
    "  $$\n",
    "  梯度方向为\n",
    "  $$\n",
    "  \\theta(x, y) = tan^{-1}[\\frac{L(x, y+1)-L(x, y-1)}{L(x+1, y) - L(x-1, y)}]\n",
    "  $$\n",
    "  - 但是实际上对其分配的方向为并不是梯度方向，而是将360度分为36个bin，一个bin为10度。在关键的的位置周围的区域里面计算各点的梯度，将其方向落在各个bin里面，这样就得到关键点周围的梯度统计直方图。然后用$1.5\\sigma$为参数对直方图做Gaussian平滑，最后数量最多的方向为主方向，值高于0.8个主方向值得方向都作为辅助方向，这样可以提高最后结果的鲁棒性。\n",
    "4. 关键点描述\n",
    "  - 在关键点为中心的16x16范围内，每4x4个块计算8bin的梯度直方图分布，归一化之后每个关键点就有了$4*4*8=128$维的特征向量，这就是SIFT的特征。"
   ]
  },
  {
   "cell_type": "code",
   "execution_count": 1,
   "id": "enabling-tours",
   "metadata": {},
   "outputs": [
    {
     "name": "stdout",
     "output_type": "stream",
     "text": [
      "885\n",
      "(885, 128)\n"
     ]
    }
   ],
   "source": [
    "import numpy as np\n",
    "import cv2 as cv\n",
    "from matplotlib import pyplot as plt\n",
    "\n",
    "img = cv.imread('../img/home_raw.jpg')\n",
    "gray = cv.cvtColor(img, cv.COLOR_BGR2GRAY)\n",
    "\n",
    "sift = cv.SIFT_create()\n",
    "# The second is mask, which can select the region in the image to detect\n",
    "# kp = sift.detect(gray, None)\n",
    "# kp, des = sift(gray, kp)\n",
    "kp, des = sift.detectAndCompute(gray, None)\n",
    "print(len(kp))\n",
    "print(des.shape)\n",
    "exit()\n",
    "# img = cv.drawKeypoints(gray, kp, img)\n",
    "# The flag can return the size of keypoints and the orientation\n",
    "img = cv.drawKeypoints(gray, kp, img, flags=cv.DRAW_MATCHES_FLAGS_DRAW_RICH_KEYPOINTS)\n",
    "cv.imshow('sift', img)\n",
    "cv.waitKey(0)\n",
    "cv.destroyAllWindows()"
   ]
  }
 ],
 "metadata": {
  "kernelspec": {
   "display_name": "Python 3",
   "language": "python",
   "name": "python3"
  },
  "language_info": {
   "codemirror_mode": {
    "name": "ipython",
    "version": 3
   },
   "file_extension": ".py",
   "mimetype": "text/x-python",
   "name": "python",
   "nbconvert_exporter": "python",
   "pygments_lexer": "ipython3",
   "version": "3.7.6"
  }
 },
 "nbformat": 4,
 "nbformat_minor": 5
}
