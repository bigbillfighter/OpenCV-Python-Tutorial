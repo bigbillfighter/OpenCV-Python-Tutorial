{
 "cells": [
  {
   "cell_type": "markdown",
   "id": "statutory-future",
   "metadata": {},
   "source": [
    "## FAST(Features from Accelerated Segment Test)\n",
    "\n",
    "The details of FAST algorithm are as follows:\n",
    "1. For one pixel $p$ in the image, let its intensity be $I_p$.\n",
    "2. Seletct an appropriate threshold value $t$.\n",
    "3. Consider a circle of 16 pixels around the pixel under test:<br>\n",
    "  ![image](./ipyimg/FAST.jpg)\n",
    "4. We say the pixel under test is a corner if there are 12 continuous pixels(in the 16 pixels) which are all brighter than $I_p+t$ or all darker than $I_p-t$.\n",
    "5. Actually, to speed up, we just check the pixels at 1, 5, 9, 13. We first check 1, 9 and then 5, 13. If there are 3 pixels darker than the dark-threshold or brighter than the bright-threshold, we see it as a corner.\n",
    "\n",
    "But there are definately many drawbacks of this method. So we use Machine Learning methods(superivison learning) and None-Maximal Supression to impove the accuracy, especially detect the images with same distribution.\n",
    "1. Select a set of images as training set.\n",
    "2. Run FAST in every training image to find feature points.\n",
    "3. Let the 16 piexels of very detected featured points as feature vector $P$.\n",
    "4. Define a label $K_p$, which is true if $p$ is a corner and false otherwise.\n",
    "5. Use ID3 algorithm (decision tree classifier) to train a model with the input data as feature vector $P$ and input label as $K_p$, measured by the entropy of $K_p$\n",
    "6. Recursively train util entropy is zero.\n",
    "7. Consider a score function V, which is teh sum of absolute difference between $p$ asnd 16 surrounding pixels values.\n",
    "8. Consider the adjacent feature points, One will be discarded if one adjacent feature point has a higher score."
   ]
  },
  {
   "cell_type": "code",
   "execution_count": 1,
   "id": "accepted-gilbert",
   "metadata": {},
   "outputs": [
    {
     "name": "stdout",
     "output_type": "stream",
     "text": [
      "Threshold: 10\n",
      "NonMaxSuppression: True\n",
      "neighborhood: 2\n",
      "Total keypoints with nonmaxSuppression: 431\n",
      "Total keypoints without nonmaxSuppression: 1575\n"
     ]
    }
   ],
   "source": [
    "import numpy as np\n",
    "import cv2 as cv\n",
    "from matplotlib import pyplot as plt\n",
    "\n",
    "img = cv.imread('../img/blox.jpg', 0)\n",
    "fast = cv.FastFeatureDetector_create()\n",
    "kp = fast.detect(img, None)\n",
    "\n",
    "# the third parameter is the draw function\n",
    "img2 = cv.drawKeypoints(img, kp, None, color=(255, 0, 0))\n",
    "\n",
    "print(\"Threshold: {}\".format(fast.getThreshold())) # t\n",
    "print(\"NonMaxSuppression: {}\".format(fast.getNonmaxSuppression()))\n",
    "print(\"neighborhood: {}\".format(fast.getType())) # neighbor type\n",
    "print(\"Total keypoints with nonmaxSuppression: {}\".format(len(kp)))\n",
    "\n",
    "# disable nonmaxSuppression\n",
    "fast.setNonmaxSuppression(False)\n",
    "kp  = fast.detect(img, None)\n",
    "print(\"Total keypoints without nonmaxSuppression: {}\".format(len(kp)))\n",
    "\n",
    "img3 = cv.drawKeypoints(img, kp, None, color=(255, 0, 0))\n",
    "\n",
    "rst=np.hstack((img2, img3))\n",
    "cv.imshow('result', rst)\n",
    "cv.waitKey(0)\n",
    "cv.destroyAllWindows()"
   ]
  }
 ],
 "metadata": {
  "kernelspec": {
   "display_name": "Python 3",
   "language": "python",
   "name": "python3"
  },
  "language_info": {
   "codemirror_mode": {
    "name": "ipython",
    "version": 3
   },
   "file_extension": ".py",
   "mimetype": "text/x-python",
   "name": "python",
   "nbconvert_exporter": "python",
   "pygments_lexer": "ipython3",
   "version": "3.7.6"
  }
 },
 "nbformat": 4,
 "nbformat_minor": 5
}
