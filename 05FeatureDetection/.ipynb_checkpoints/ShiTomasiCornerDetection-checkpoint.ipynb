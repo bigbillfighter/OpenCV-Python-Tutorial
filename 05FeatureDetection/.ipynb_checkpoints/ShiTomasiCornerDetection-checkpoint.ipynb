{
 "cells": [
  {
   "cell_type": "markdown",
   "metadata": {},
   "source": [
    "In Harris Corner Detection we use the equation \n",
    "$$R=\\lambda_1 \\lambda_2 - k(\\lambda_1 + \\lambda_2)^2$$\n",
    "to evalute the corners.<br>\n",
    "In Shi-Tomasi Corner Detection, we just use the equation\n",
    "$$R = min(\\lambda_1, \\lambda_2)$$ to judge.<br>\n",
    "So Shi-Tomasi Corner Detection can only detect corners but can not identify edges and plains."
   ]
  },
  {
   "cell_type": "code",
   "execution_count": 1,
   "metadata": {},
   "outputs": [
    {
     "name": "stdout",
     "output_type": "stream",
     "text": [
      "25\n"
     ]
    }
   ],
   "source": [
    "import numpy as np\n",
    "import cv2 as cv\n",
    "\n",
    "img = cv.imread('../img/blox.jpg')\n",
    "gray = cv.cvtColor(img, cv.COLOR_BGR2GRAY)\n",
    "# goodFeaturesToTrack find specific number of corners\n",
    "# the second argument means the maximum number of corners, if the number of corner is\n",
    "# smaller than it, it returns corners less than the specific number.\n",
    "# the third argument means the quality of points to be corners. The range is (0, 1).\n",
    "# It won't return corners whose quality is less than it. So the smaller the argument is,\n",
    "# the more corner it will return.\n",
    "# The forth argument is the minimum Euclidean distance between corners.\n",
    "# what the function returns is the coordinates of corners it detects, and sorted by the\n",
    "# probability in descending order.\n",
    "corners = cv.goodFeaturesToTrack(gray, 25, 0.01, 10)\n",
    "corners = np.int0(corners)\n",
    "print(len(corners))\n",
    "for i in corners:\n",
    "    \n",
    "    x, y = i.ravel()\n",
    "    cv.circle(img, (x, y), 3, (0, 0, 255), -1)\n",
    "\n",
    "cv.imshow('blox', img)\n",
    "cv.waitKey(0)\n",
    "cv.destroyAllWindows()"
   ]
  },
  {
   "cell_type": "code",
   "execution_count": null,
   "metadata": {},
   "outputs": [],
   "source": []
  }
 ],
 "metadata": {
  "kernelspec": {
   "display_name": "Python 3",
   "language": "python",
   "name": "python3"
  },
  "language_info": {
   "codemirror_mode": {
    "name": "ipython",
    "version": 3
   },
   "file_extension": ".py",
   "mimetype": "text/x-python",
   "name": "python",
   "nbconvert_exporter": "python",
   "pygments_lexer": "ipython3",
   "version": "3.8.3"
  }
 },
 "nbformat": 4,
 "nbformat_minor": 4
}
