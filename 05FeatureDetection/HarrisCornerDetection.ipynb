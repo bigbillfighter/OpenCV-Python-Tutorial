{
 "cells": [
  {
   "cell_type": "markdown",
   "metadata": {
    "collapsed": true,
    "pycharm": {
     "name": "#%% md\n"
    }
   },
   "source": [
    "## Harris Corner Detection\n",
    "When detecting image features, corners are very important. Just like\n",
    "what humans can do, we can easily localize a corner from an image, but\n",
    "much harder based on an edge and even impossible from a plain. And also,\n",
    "blobs(some small and strange shapes) can also make us easy to find.<br>\n",
    "So we first need to find corners, and that is what Harris Corner Detection\n",
    "does.<br>\n",
    "Harris Corner Detection uses a simple method based on the intensity variation\n",
    "in images.\n",
    "- First, we need to calculate the intensity difference<br>\n",
    "  $$E(u, v) = \\sum_{x, y} w(x, y)[I(x+u, y+v) - I(x, y)]^2$$<br>\n",
    "  The $w(x, y)$ is the weight in each pixel, we can use mean weight or Gaussian\n",
    "  weight and so on. The $I(x,y)$ is the intensity.\n",
    "- Second, we just use Taylor Expansion to approximate the equation<br>\n",
    "  $$E(u, v) \\approx [u, v]M[u, v]^{T}$$<br>\n",
    "  $$\n",
    "    M = \\sum_{x,y}w(x, y)\\begin{bmatrix}\n",
    "    I_xI_x & I_xI_y \\\\\n",
    "    I_xI_y & I_yI_y\n",
    "    \\end{bmatrix}\n",
    "  $$<br>\n",
    "  $I_x$ is the derivative of intensity in x direction. And\n",
    "  $I_y$ is the derivative of intensity in y direction.\n",
    "- Third, we use a score to judge if it is a corner.\n",
    "  Because we want to make the $E$ as big as possible.\n",
    "  If we calculate the derivative of $E$, we will find\n",
    "  that it will just depends on $M$. So we can just\n",
    "  calculate the score base on $M$<br>\n",
    "  $$\n",
    "    R = det(M) - k (trace(M))^2\n",
    "  $$<br>\n",
    "  $det(M) = \\lambda_1 * \\lambda_2$<br>\n",
    "  $trace(M) = \\lambda_1 + \\lambda_2$<br>\n",
    "  $\\lambda_1$ and $\\lambda_2$ are the 2 eigenvalues of $M$<br>\n",
    "\n",
    "Concretely, the $det$ and $trace$ rely on the variation of intensity.\n",
    "When $\\lambda$ is big, the intensity variation is acute, so it is\n",
    "possible to be a corner here. And if small, it is probablity that\n",
    "there is a plain.\n",
    "The evaluation rules are as below:\n",
    "1. When $|R|$ is small, which happens when $\\lambda_1$ and $\\lambda_2$\n",
    "are small, the region is flat.\n",
    "2. When $R<0$, which happens when $\\lambda_1 >> \\lambda_2$ or\n",
    "vice versa, the region is edge.\n",
    "3. When $R$ is large, which happens when $\\lambda_1$ and $\\lambda_2$ are\n",
    "large and $\\lambda_1 \\sim \\lambda_2$, the region is a corner."
   ]
  },
  {
   "cell_type": "code",
   "execution_count": 1,
   "metadata": {},
   "outputs": [],
   "source": [
    "import numpy as np\n",
    "import cv2 as cv\n",
    "\n",
    "filename = '../img/chessboard2.jpeg'\n",
    "img = cv.imread(filename)\n",
    "gray = cv.cvtColor(img, cv.COLOR_BGR2GRAY)\n",
    "\n",
    "gray = np.float32(gray)\n",
    "# blockSize means the window size, in which neighbours should be calculate the intensity variation\n",
    "# ksize means the Sobel operator size\n",
    "# k is the free parameter we described in the equation above\n",
    "dst = cv.cornerHarris(gray, blockSize=2, ksize=3, k=0.04)\n",
    "\n",
    "# dilate the corner\n",
    "dst = cv.dilate(dst, None)\n",
    "img[dst>0.01*dst.max()]=[0, 0, 255]\n",
    "cv.imshow('dst', img)\n",
    "cv.waitKey(0)\n",
    "cv.destroyAllWindows()"
   ]
  }
 ],
 "metadata": {
  "kernelspec": {
   "display_name": "Python 3",
   "language": "python",
   "name": "python3"
  },
  "language_info": {
   "codemirror_mode": {
    "name": "ipython",
    "version": 3
   },
   "file_extension": ".py",
   "mimetype": "text/x-python",
   "name": "python",
   "nbconvert_exporter": "python",
   "pygments_lexer": "ipython3",
   "version": "3.7.6"
  }
 },
 "nbformat": 4,
 "nbformat_minor": 1
}
