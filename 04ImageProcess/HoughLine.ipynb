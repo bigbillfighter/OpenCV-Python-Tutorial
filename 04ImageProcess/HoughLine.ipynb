{
 "cells": [
  {
   "cell_type": "markdown",
   "metadata": {
    "collapsed": true,
    "pycharm": {
     "name": "#%% md\n"
    }
   },
   "source": [
    "## Hough Line\n",
    "Commonly, we describe a line as $ y = w*x+b$. But a line\n",
    "can also be described as: <br>\n",
    "$\\rho = cos\\theta \\cdot x + sin\\theta \\cdot y$<br>\n",
    "The theory is as the image showing:<br>\n",
    "![image](ipyimg/houghline.jpg)<br>\n",
    "The angle is followed the rule in OpenCV.\n",
    "\n",
    "If the line is passing below the origin, it will have a\n",
    "positive $\\rho$ and an angle less than 180. If it is going above the origin,\n",
    "instead of taking an angle greater than 180,\n",
    "the angle is taken less than 180, and rho is taken negative.\n",
    "\n",
    "When do calculation, we just need to set the accuracy of $\\rho$ and angle.\n",
    "If we set the accuracy of angle to be 1 degree, so the range of angle\n",
    "is 0..179. (Actually, the angle is measured in radians) We can also set the accuracy of $\\rho$ to be 1 pixel,\n",
    "so the range can be -len_diagonal, .., len_diagonal.\n",
    "In the matrix we need to calculate, every($\\rho$, $\\theta$)\n",
    "recommends a summary of voting."
   ]
  },
  {
   "cell_type": "code",
   "execution_count": 3,
   "outputs": [
    {
     "data": {
      "text/plain": "True"
     },
     "execution_count": 3,
     "metadata": {},
     "output_type": "execute_result"
    }
   ],
   "source": [
    "import cv2 as cv\n",
    "import numpy as np\n",
    "\n",
    "img = cv.imread('../img/sudoku.png')\n",
    "gray = cv.cvtColor(img, cv.COLOR_BGR2GRAY)\n",
    "edges = cv.Canny(gray, 50, 150, apertureSize=3)\n",
    "\n",
    "# (src, rho_accuracy, angle_accuracy, threshold(the minimum vote it should\n",
    "# be considered as a line)\n",
    "\n",
    "lines = cv.HoughLines(edges,1,np.pi/180,200)\n",
    "for line in lines:\n",
    "    rho,theta = line[0]\n",
    "    a = np.cos(theta)\n",
    "    b = np.sin(theta)\n",
    "    x0 = a*rho\n",
    "    y0 = b*rho\n",
    "    x1 = int(x0 + 1000*(-b))\n",
    "    y1 = int(y0 + 1000*(a))\n",
    "    x2 = int(x0 - 1000*(-b))\n",
    "    y2 = int(y0 - 1000*(a))\n",
    "    cv.line(img,(x1,y1),(x2,y2),(0,0,255),2)\n",
    "cv.imwrite('../img/houghlines.jpg',img)"
   ],
   "metadata": {
    "collapsed": false,
    "pycharm": {
     "name": "#%%\n"
    }
   }
  },
  {
   "cell_type": "markdown",
   "source": [
    "Probabilistic Hough Transform uses only the subset to calculate,\n",
    "thus less time-consuming. In Probabilistic Hough Transform, in each\n",
    "calculation(for example, set angle fixed, from $\\rho=5$ to $\\rho=6$),\n",
    "we sample a subset of the points in the gray-scaled image randomly.\n",
    "In the end, we only need to decrease the threshold.\n",
    "Probabilistic Hough Transform can get robust result."
   ],
   "metadata": {
    "collapsed": false,
    "pycharm": {
     "name": "#%% md\n"
    }
   }
  },
  {
   "cell_type": "code",
   "execution_count": 4,
   "outputs": [],
   "source": [
    "# minLineLength means the shortest length of line.\n",
    "# Lines shorter than it won't be detected.\n",
    "# maxLineGap means the shortest gap between two line\n",
    "# If the gap is smaller than it, they will be thought as\n",
    "# the same line.\n",
    "lines = cv.HoughLinesP(edges,1,np.pi/180,100,minLineLength=100,maxLineGap=10)\n",
    "for line in lines:\n",
    "    x1,y1,x2,y2 = line[0]\n",
    "    cv.line(img,(x1,y1),(x2,y2),(0,255,0),2)\n",
    "cv.imshow('img', img)\n",
    "cv.waitKey(0)\n",
    "cv.destroyAllWindows()"
   ],
   "metadata": {
    "collapsed": false,
    "pycharm": {
     "name": "#%%\n"
    }
   }
  },
  {
   "cell_type": "code",
   "execution_count": null,
   "outputs": [],
   "source": [
    "\n"
   ],
   "metadata": {
    "collapsed": false,
    "pycharm": {
     "name": "#%%\n"
    }
   }
  }
 ],
 "metadata": {
  "kernelspec": {
   "display_name": "Python 3",
   "language": "python",
   "name": "python3"
  },
  "language_info": {
   "codemirror_mode": {
    "name": "ipython",
    "version": 2
   },
   "file_extension": ".py",
   "mimetype": "text/x-python",
   "name": "python",
   "nbconvert_exporter": "python",
   "pygments_lexer": "ipython2",
   "version": "2.7.6"
  }
 },
 "nbformat": 4,
 "nbformat_minor": 0
}