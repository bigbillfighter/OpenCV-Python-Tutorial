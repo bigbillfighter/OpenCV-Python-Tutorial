{
 "cells": [
  {
   "cell_type": "markdown",
   "metadata": {
    "collapsed": true,
    "pycharm": {
     "name": "#%% md\n"
    }
   },
   "source": [
    "'Moment'(矩) is defined as:<br>\n",
    "- Given a 2D continuous function f(x, y), the (p+q) order 'moment' is defined as:<br>\n",
    "$$ M_{pq} = \\int^{\\infty}_{-\\infty}\\int^{\\infty}_{-\\infty}x^py^qf(x, y)dxdy$$\n",
    "- In digital grayscale images, define pixel intensities I(x, y), 'moment' can be defined as <br>\n",
    "$$ M_{ij} = \\sum_{x}\\sum_{y}x^iy^jI(x, y)$$\n",
    "- 'Central moments' are defined as:<br>\n",
    "$$ \\mu_{pq} = \\int_{-\\infty}^{\\infty}\\int_{-\\infty}^{\\infty}(x-\\bar{x})^p(y-\\bar{y})^qf(x, y)dxdy $$\n",
    "- In digital grayscale image:<br>\n",
    "$$\\mu_{pq} = \\sum_{x}\\sum_{y}(x-\\bar{x})^p(y-\\bar{y})^qf(x, y)$$\n",
    "- Centroid can be denoted as:<br>\n",
    "$$\\{\\bar{x}, \\bar{y}\\} = \\{\\frac{M_{10}}{M_{00}}, \\frac{M_{01}}{M_{00}}\\}$$"
   ]
  },
  {
   "cell_type": "code",
   "execution_count": 3,
   "outputs": [
    {
     "name": "stdout",
     "output_type": "stream",
     "text": [
      "24\n",
      "centroid coordinates: 48, 94\n",
      "area: 2370.5\n",
      "Perimeter: 506.45793199539185\n"
     ]
    }
   ],
   "source": [
    "import cv2 as cv\n",
    "import numpy as np\n",
    "from matplotlib import pyplot as plt\n",
    "\n",
    "img = cv.imread('../img/j.png', 0)\n",
    "ret, threshold = cv.threshold(img, 127, 255, cv.THRESH_BINARY)\n",
    "\n",
    "contours, hierarchy = cv.findContours(threshold, cv.RETR_TREE, cv.CHAIN_APPROX_SIMPLE)\n",
    "cnt = contours[0]\n",
    "M = cv.moments(cnt)\n",
    "print(len(M))\n",
    "\n",
    "cx = int(M['m10']/M['m00'])\n",
    "cy = int(M['m01']/M['m00'])\n",
    "print('centroid coordinates: {}, {}'.format(cx, cy))\n",
    "area = cv.contourArea(cnt)\n",
    "print('area: {}'.format(area))\n",
    "\n",
    "# perimeter\n",
    "# if the second argument is True, that means the shape is closed, otherwise is just a curve\n",
    "perimeter = cv.arcLength(cnt, True)\n",
    "print('Perimeter: {}'.format(perimeter))\n",
    "\n",
    "img = cv.cvtColor(img, cv.COLOR_GRAY2BGR)\n",
    "cv.drawContours(img, [cnt], 0, (0, 255, 0), 2)\n",
    "cv.imshow('img', img)\n",
    "cv.waitKey(0)\n",
    "cv.destroyWindow('img')"
   ],
   "metadata": {
    "collapsed": false,
    "pycharm": {
     "name": "#%%\n"
    }
   }
  },
  {
   "cell_type": "code",
   "execution_count": 12,
   "outputs": [],
   "source": [
    "img2 = cv.imread('../img/approx.jpg', 0)\n",
    "img2 = cv.resize(img2, (img2.shape[0]*2, img2.shape[1]*2)[::-1])\n",
    "ret, threshold = cv.threshold(img2, 127, 255, 0)\n",
    "img3 = cv.cvtColor(threshold, cv.COLOR_GRAY2BGR)\n",
    "contours, hierarchy = cv.findContours(threshold, cv.RETR_TREE, cv.CHAIN_APPROX_NONE)\n",
    "cnt = contours[0]\n",
    "epsilon = 0.1*cv.arcLength(cnt, True)\n",
    "approx = cv.approxPolyDP(cnt, epsilon, True)\n",
    "cv.drawContours(img3, [approx], 0, (0, 0, 255), 2)\n",
    "cv.imshow('img', img3)\n",
    "\n",
    "img4 = img3.copy()\n",
    "contours, hierarchy = cv.findContours(threshold, cv.RETR_TREE, cv.CHAIN_APPROX_SIMPLE)\n",
    "cnt = contours[0]\n",
    "epsilon = 0.001*cv.arcLength(cnt, True)\n",
    "approx = cv.approxPolyDP(cnt, epsilon, True)\n",
    "cv.drawContours(img4, [approx], 0, (0, 0, 255), 2)\n",
    "cv.imshow('img2', img4)\n",
    "cv.waitKey(0)\n",
    "cv.destroyAllWindows()"
   ],
   "metadata": {
    "collapsed": false,
    "pycharm": {
     "name": "#%%\n"
    }
   }
  },
  {
   "cell_type": "code",
   "execution_count": null,
   "outputs": [],
   "source": [
    "\n"
   ],
   "metadata": {
    "collapsed": false,
    "pycharm": {
     "name": "#%%\n"
    }
   }
  }
 ],
 "metadata": {
  "kernelspec": {
   "display_name": "Python 3",
   "language": "python",
   "name": "python3"
  },
  "language_info": {
   "codemirror_mode": {
    "name": "ipython",
    "version": 2
   },
   "file_extension": ".py",
   "mimetype": "text/x-python",
   "name": "python",
   "nbconvert_exporter": "python",
   "pygments_lexer": "ipython2",
   "version": "2.7.6"
  }
 },
 "nbformat": 4,
 "nbformat_minor": 0
}