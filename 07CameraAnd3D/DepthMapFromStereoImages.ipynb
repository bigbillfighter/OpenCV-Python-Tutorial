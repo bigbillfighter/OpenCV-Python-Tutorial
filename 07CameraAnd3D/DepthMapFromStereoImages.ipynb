{
 "cells": [
  {
   "cell_type": "markdown",
   "id": "fixed-tuesday",
   "metadata": {},
   "source": [
    "## Depth Map\n",
    "\n",
    "We can easily calculate the depth with theory of similarity.\n",
    "![img](./ipyimg/stereo_depth.jpg)\n",
    "\n",
    "$$\n",
    "disparity = \\overline{x'-x} = \\frac{B(Z-f)}{Z}\n",
    "$$\n",
    "Now we have known the distance of 2 camera centers, which is called **Baseline**(B). We also know focal length **f**. Once we calculate the **disparity**, we can know the distance of the object in 3-D space, which is the depth. We can also know that, the farther the object is away from the cameras, the larger disparity will be."
   ]
  },
  {
   "cell_type": "code",
   "execution_count": null,
   "id": "afraid-paragraph",
   "metadata": {},
   "outputs": [],
   "source": [
    "import numpy as np\n",
    "import cv2 as cv\n",
    "from matplotlib import pyplot as plt\n",
    "\n",
    "imgL = cv.imread('../img/tsukuba_l.png',0)\n",
    "imgR = cv.imread('../img/tsukuba_r.png',0)\n",
    "\n",
    "stereo = cv.StereoBM_create(numDisparities=16, blockSize=15)\n",
    "disparity = stereo.compute(imgL,imgR)\n",
    "plt.imshow(disparity,'gray')\n",
    "plt.show()"
   ]
  }
 ],
 "metadata": {
  "kernelspec": {
   "display_name": "Python 3",
   "language": "python",
   "name": "python3"
  },
  "language_info": {
   "codemirror_mode": {
    "name": "ipython",
    "version": 3
   },
   "file_extension": ".py",
   "mimetype": "text/x-python",
   "name": "python",
   "nbconvert_exporter": "python",
   "pygments_lexer": "ipython3",
   "version": "3.7.6"
  }
 },
 "nbformat": 4,
 "nbformat_minor": 5
}
